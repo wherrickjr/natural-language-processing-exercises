{
 "cells": [
  {
   "cell_type": "code",
   "execution_count": 5,
   "id": "22da0ecd",
   "metadata": {},
   "outputs": [],
   "source": [
    "import pyspark\n",
    "import pandas as pd"
   ]
  },
  {
   "cell_type": "code",
   "execution_count": 3,
   "id": "b366d2e2",
   "metadata": {},
   "outputs": [
    {
     "name": "stderr",
     "output_type": "stream",
     "text": [
      "Setting default log level to \"WARN\".\n",
      "To adjust logging level use sc.setLogLevel(newLevel). For SparkR, use setLogLevel(newLevel).\n"
     ]
    },
    {
     "name": "stdout",
     "output_type": "stream",
     "text": [
      "23/03/21 13:26:23 WARN NativeCodeLoader: Unable to load native-hadoop library for your platform... using builtin-java classes where applicable\n"
     ]
    }
   ],
   "source": [
    "spark = pyspark.sql.SparkSession.builder.getOrCreate()"
   ]
  },
  {
   "cell_type": "code",
   "execution_count": 7,
   "id": "2107f1f2",
   "metadata": {},
   "outputs": [],
   "source": [
    "member = pd.DataFrame({'MemberNumber' : [112, 113, 115, 118], 'SSN': [1,2,3,4], 'FirstName': ['joe', 'jane', 'bill', 'sam']\\\n",
    "                      , 'LastName': ['brown', 'johnson', 'martinez', 'gutierez']})"
   ]
  },
  {
   "cell_type": "code",
   "execution_count": 8,
   "id": "8c1b6201",
   "metadata": {},
   "outputs": [],
   "source": [
    "loan = pd.DataFrame({'MemberNumber' : [113, 118, 118], 'LoanId': [1,1,2], \\\n",
    "                     'Description': ['Personal Loan', 'Auto Loan', 'Mortgage'], \\\n",
    "                     'Balance': [20000,100000, 1000000], 'Payment': [ 500, 1200, 5000]})"
   ]
  },
  {
   "cell_type": "code",
   "execution_count": 9,
   "id": "e172ca2c",
   "metadata": {},
   "outputs": [],
   "source": [
    "loan = spark.createDataFrame(loan)\n",
    "member = spark.createDataFrame(member)"
   ]
  },
  {
   "cell_type": "code",
   "execution_count": 10,
   "id": "1321b802",
   "metadata": {},
   "outputs": [],
   "source": [
    "loan.createOrReplaceTempView(\"loan\")"
   ]
  },
  {
   "cell_type": "code",
   "execution_count": 11,
   "id": "4256263d",
   "metadata": {},
   "outputs": [],
   "source": [
    "member.createOrReplaceTempView(\"member\")"
   ]
  },
  {
   "cell_type": "code",
   "execution_count": 12,
   "id": "e1609f26",
   "metadata": {},
   "outputs": [
    {
     "data": {
      "text/plain": [
       "DataFrame[MemberNumber: bigint, LoanId: bigint, Description: string, Balance: bigint, Payment: bigint]"
      ]
     },
     "execution_count": 12,
     "metadata": {},
     "output_type": "execute_result"
    }
   ],
   "source": [
    "spark.sql(\"\"\" select * from loan\"\"\")"
   ]
  },
  {
   "cell_type": "code",
   "execution_count": 14,
   "id": "986a4631",
   "metadata": {},
   "outputs": [
    {
     "name": "stderr",
     "output_type": "stream",
     "text": [
      "                                                                                \r"
     ]
    },
    {
     "name": "stdout",
     "output_type": "stream",
     "text": [
      "+------------+---+---------+--------+------------+------+-------------+-------+-------+\n",
      "|MemberNumber|SSN|FirstName|LastName|MemberNumber|LoanId|  Description|Balance|Payment|\n",
      "+------------+---+---------+--------+------------+------+-------------+-------+-------+\n",
      "|         113|  2|     jane| johnson|         113|     1|Personal Loan|  20000|    500|\n",
      "|         118|  4|      sam|gutierez|         118|     1|    Auto Loan| 100000|   1200|\n",
      "|         118|  4|      sam|gutierez|         118|     2|     Mortgage|1000000|   5000|\n",
      "+------------+---+---------+--------+------------+------+-------------+-------+-------+\n",
      "\n"
     ]
    }
   ],
   "source": [
    "spark.sql(\"\"\"select * from member as m right join loan as l on m.MemberNumber = l.MemberNumber\"\"\").show()"
   ]
  },
  {
   "cell_type": "code",
   "execution_count": 15,
   "id": "36ca5b0a",
   "metadata": {},
   "outputs": [
    {
     "name": "stdout",
     "output_type": "stream",
     "text": [
      "+------------+-------+\n",
      "|MemberNumber|    sum|\n",
      "+------------+-------+\n",
      "|         113|  20000|\n",
      "|         118|1100000|\n",
      "+------------+-------+\n",
      "\n"
     ]
    }
   ],
   "source": [
    "spark.sql(\"\"\"select MemberNumber, sum(Balance) as sum from Loan as L group by MemberNumber\"\"\").show()"
   ]
  },
  {
   "cell_type": "code",
   "execution_count": null,
   "id": "c67b75a3",
   "metadata": {},
   "outputs": [],
   "source": []
  }
 ],
 "metadata": {
  "kernelspec": {
   "display_name": "Python 3 (ipykernel)",
   "language": "python",
   "name": "python3"
  },
  "language_info": {
   "codemirror_mode": {
    "name": "ipython",
    "version": 3
   },
   "file_extension": ".py",
   "mimetype": "text/x-python",
   "name": "python",
   "nbconvert_exporter": "python",
   "pygments_lexer": "ipython3",
   "version": "3.9.13"
  }
 },
 "nbformat": 4,
 "nbformat_minor": 5
}
